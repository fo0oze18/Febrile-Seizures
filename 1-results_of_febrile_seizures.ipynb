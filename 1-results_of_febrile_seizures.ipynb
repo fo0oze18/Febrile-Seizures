{
 "cells": [
  {
   "cell_type": "markdown",
   "metadata": {},
   "source": [
    "# Knowledge, Attitude, and Practices toward febrile Seizures"
   ]
  },
  {
   "cell_type": "markdown",
   "metadata": {},
   "source": [
    "### Abstract\n",
    "\n",
    "Febrile seizures are epilepsy that target children who have a temperature of 100.4 F (i.e., 38 in Celsius) or above. The seizures usually still for few minutes after that stops from itself.\n",
    "\n",
    "The fever can continue a lot. This study analyzed 827 family in Saudi Arabia including other nationality living in Saudi Arabia with Febrile seizures happened to the children at least one time to assess the awareness of the family about how to deal or know how much its harm.\n",
    "\n",
    "In this study we analyzed the data 40 clinical and paraclinical attributes. We checked the accuracy and quality of data by removing invalid record or values. We use Data mining methods and went through many steps (Data preparing, data definition, data exploration modeling and evaluation). To our study this is good way to study in Febrile seizures in Saudi Arabia. \n",
    "\n",
    "\n",
    "This situation happens among kids between 6 months and 5 years old. The outcomes of this research are to assist families in bringing self-awareness on Febrile seizures and taking necessary step for their children."
   ]
  },
  {
   "cell_type": "markdown",
   "metadata": {},
   "source": [
    "### Target Questions:\n",
    "In this post, I'm tackling the below questions: -\n",
    "\n",
    "* who are the participants?\n",
    "* Having thermometer at home?\n",
    "* Can friable seizure lead to brain damage?\n",
    "* May Febrile seizures result in death?\n",
    "* Do Traditional medicines have benefit?"
   ]
  },
  {
   "cell_type": "markdown",
   "metadata": {},
   "source": [
    "### Data Understanding\n",
    "\n",
    "Data understanding is the first step you need to think about when you have data set, to know our data set:\n",
    "- is our data structured or unstructured?\n",
    "- is there any missing or noisy data?\n",
    "\n",
    "\n",
    "It helps to improve the quality of data and prepare.\n",
    "my questions for understanding the data set focus on:\n",
    "- The size of data set.\n",
    "- quantitative or qualitative data set.\n",
    "- The missing values"
   ]
  },
  {
   "cell_type": "code",
   "execution_count": 3,
   "metadata": {},
   "outputs": [
    {
     "data": {
      "text/html": [
       "<div>\n",
       "<style scoped>\n",
       "    .dataframe tbody tr th:only-of-type {\n",
       "        vertical-align: middle;\n",
       "    }\n",
       "\n",
       "    .dataframe tbody tr th {\n",
       "        vertical-align: top;\n",
       "    }\n",
       "\n",
       "    .dataframe thead th {\n",
       "        text-align: right;\n",
       "    }\n",
       "</style>\n",
       "<table border=\"1\" class=\"dataframe\">\n",
       "  <thead>\n",
       "    <tr style=\"text-align: right;\">\n",
       "      <th></th>\n",
       "      <th>Gender</th>\n",
       "      <th>Social Status</th>\n",
       "      <th>Age</th>\n",
       "      <th>Education level</th>\n",
       "      <th>Working in health</th>\n",
       "      <th>Where are you living</th>\n",
       "      <th>child had convulsions</th>\n",
       "      <th>Temperature cause convulsions</th>\n",
       "      <th>Spasm is a type of epilepsy</th>\n",
       "      <th>Is it dangerous up to 5 years</th>\n",
       "      <th>...</th>\n",
       "      <th>Child with cramps should be placed on his left or right side</th>\n",
       "      <th>necessary to observe the apparent child characteristics</th>\n",
       "      <th>Child should be taken to the doctor immediately</th>\n",
       "      <th>Put anything inside child mouth prevent child from biting his teeth with force</th>\n",
       "      <th>Child must be resuscitated by introducing air through mouth</th>\n",
       "      <th>Secretions should be withdrawn</th>\n",
       "      <th>Heart must be refreshed</th>\n",
       "      <th>Dealing with a child when has a cramp</th>\n",
       "      <th>having thermometer at home</th>\n",
       "      <th>Know how to use thermometer</th>\n",
       "    </tr>\n",
       "  </thead>\n",
       "  <tbody>\n",
       "    <tr>\n",
       "      <th>0</th>\n",
       "      <td>male</td>\n",
       "      <td>Single</td>\n",
       "      <td>20 - 25</td>\n",
       "      <td>college</td>\n",
       "      <td>Health</td>\n",
       "      <td>Eastern</td>\n",
       "      <td>No</td>\n",
       "      <td>Yes</td>\n",
       "      <td>No</td>\n",
       "      <td>Yes</td>\n",
       "      <td>...</td>\n",
       "      <td>Dont Know</td>\n",
       "      <td>Yes</td>\n",
       "      <td>No</td>\n",
       "      <td>No</td>\n",
       "      <td>No</td>\n",
       "      <td>Yes</td>\n",
       "      <td>No</td>\n",
       "      <td>Yes</td>\n",
       "      <td>Yes</td>\n",
       "      <td>Yes</td>\n",
       "    </tr>\n",
       "    <tr>\n",
       "      <th>1</th>\n",
       "      <td>Female</td>\n",
       "      <td>Single</td>\n",
       "      <td>20 - 25</td>\n",
       "      <td>college</td>\n",
       "      <td>nonH</td>\n",
       "      <td>Eastern</td>\n",
       "      <td>No</td>\n",
       "      <td>Yes</td>\n",
       "      <td>Dont Know</td>\n",
       "      <td>Yes</td>\n",
       "      <td>...</td>\n",
       "      <td>Dont Know</td>\n",
       "      <td>Yes</td>\n",
       "      <td>Dont Know</td>\n",
       "      <td>Dont Know</td>\n",
       "      <td>Dont Know</td>\n",
       "      <td>Dont Know</td>\n",
       "      <td>Dont Know</td>\n",
       "      <td>Dont Know</td>\n",
       "      <td>No</td>\n",
       "      <td>Yes</td>\n",
       "    </tr>\n",
       "    <tr>\n",
       "      <th>2</th>\n",
       "      <td>male</td>\n",
       "      <td>Married</td>\n",
       "      <td>26 - 40</td>\n",
       "      <td>college</td>\n",
       "      <td>nonH</td>\n",
       "      <td>Eastern</td>\n",
       "      <td>No</td>\n",
       "      <td>Yes</td>\n",
       "      <td>No</td>\n",
       "      <td>Yes</td>\n",
       "      <td>...</td>\n",
       "      <td>Dont Know</td>\n",
       "      <td>Yes</td>\n",
       "      <td>No</td>\n",
       "      <td>Dont Know</td>\n",
       "      <td>No</td>\n",
       "      <td>No</td>\n",
       "      <td>No</td>\n",
       "      <td>Dont Know</td>\n",
       "      <td>Yes</td>\n",
       "      <td>Yes</td>\n",
       "    </tr>\n",
       "    <tr>\n",
       "      <th>3</th>\n",
       "      <td>Female</td>\n",
       "      <td>Married</td>\n",
       "      <td>40 - 60</td>\n",
       "      <td>college</td>\n",
       "      <td>nonH</td>\n",
       "      <td>Eastern</td>\n",
       "      <td>No</td>\n",
       "      <td>Yes</td>\n",
       "      <td>No</td>\n",
       "      <td>Yes</td>\n",
       "      <td>...</td>\n",
       "      <td>Dont Know</td>\n",
       "      <td>Yes</td>\n",
       "      <td>No</td>\n",
       "      <td>Yes</td>\n",
       "      <td>Yes</td>\n",
       "      <td>Yes</td>\n",
       "      <td>Dont Know</td>\n",
       "      <td>No</td>\n",
       "      <td>Yes</td>\n",
       "      <td>Yes</td>\n",
       "    </tr>\n",
       "    <tr>\n",
       "      <th>4</th>\n",
       "      <td>Female</td>\n",
       "      <td>Married</td>\n",
       "      <td>40 - 60</td>\n",
       "      <td>college</td>\n",
       "      <td>Health</td>\n",
       "      <td>Eastern</td>\n",
       "      <td>No</td>\n",
       "      <td>Yes</td>\n",
       "      <td>Yes</td>\n",
       "      <td>Yes</td>\n",
       "      <td>...</td>\n",
       "      <td>Dont Know</td>\n",
       "      <td>Yes</td>\n",
       "      <td>No</td>\n",
       "      <td>Yes</td>\n",
       "      <td>Dont Know</td>\n",
       "      <td>Dont Know</td>\n",
       "      <td>Dont Know</td>\n",
       "      <td>Dont Know</td>\n",
       "      <td>Yes</td>\n",
       "      <td>Yes</td>\n",
       "    </tr>\n",
       "  </tbody>\n",
       "</table>\n",
       "<p>5 rows × 37 columns</p>\n",
       "</div>"
      ],
      "text/plain": [
       "   Gender Social Status      Age Education level Working in health  \\\n",
       "0    male        Single  20 - 25         college            Health   \n",
       "1  Female        Single  20 - 25         college              nonH   \n",
       "2    male       Married  26 - 40         college              nonH   \n",
       "3  Female       Married  40 - 60         college              nonH   \n",
       "4  Female       Married  40 - 60         college            Health   \n",
       "\n",
       "  Where are you living child had convulsions Temperature cause convulsions  \\\n",
       "0              Eastern                    No                           Yes   \n",
       "1              Eastern                    No                           Yes   \n",
       "2              Eastern                    No                           Yes   \n",
       "3              Eastern                    No                           Yes   \n",
       "4              Eastern                    No                           Yes   \n",
       "\n",
       "  Spasm is a type of epilepsy Is it dangerous up to 5 years   ...  \\\n",
       "0                          No                            Yes  ...   \n",
       "1                   Dont Know                            Yes  ...   \n",
       "2                          No                            Yes  ...   \n",
       "3                          No                            Yes  ...   \n",
       "4                         Yes                            Yes  ...   \n",
       "\n",
       "  Child with cramps should be placed on his left or right side  \\\n",
       "0                                          Dont Know             \n",
       "1                                          Dont Know             \n",
       "2                                          Dont Know             \n",
       "3                                          Dont Know             \n",
       "4                                          Dont Know             \n",
       "\n",
       "   necessary to observe the apparent child characteristics  \\\n",
       "0                                                Yes         \n",
       "1                                                Yes         \n",
       "2                                                Yes         \n",
       "3                                                Yes         \n",
       "4                                                Yes         \n",
       "\n",
       "  Child should be taken to the doctor immediately   \\\n",
       "0                                               No   \n",
       "1                                        Dont Know   \n",
       "2                                               No   \n",
       "3                                               No   \n",
       "4                                               No   \n",
       "\n",
       "  Put anything inside child mouth prevent child from biting his teeth with force  \\\n",
       "0                                                 No                               \n",
       "1                                          Dont Know                               \n",
       "2                                          Dont Know                               \n",
       "3                                                Yes                               \n",
       "4                                                Yes                               \n",
       "\n",
       "  Child must be resuscitated by introducing air through mouth  \\\n",
       "0                                                 No            \n",
       "1                                          Dont Know            \n",
       "2                                                 No            \n",
       "3                                                Yes            \n",
       "4                                          Dont Know            \n",
       "\n",
       "  Secretions should be withdrawn Heart must be refreshed  \\\n",
       "0                            Yes                      No   \n",
       "1                      Dont Know               Dont Know   \n",
       "2                             No                      No   \n",
       "3                            Yes               Dont Know   \n",
       "4                      Dont Know               Dont Know   \n",
       "\n",
       "  Dealing with a child when has a cramp having thermometer at home  \\\n",
       "0                                   Yes                        Yes   \n",
       "1                             Dont Know                         No   \n",
       "2                             Dont Know                        Yes   \n",
       "3                                    No                        Yes   \n",
       "4                             Dont Know                        Yes   \n",
       "\n",
       "  Know how to use thermometer  \n",
       "0                         Yes  \n",
       "1                         Yes  \n",
       "2                         Yes  \n",
       "3                         Yes  \n",
       "4                         Yes  \n",
       "\n",
       "[5 rows x 37 columns]"
      ]
     },
     "execution_count": 3,
     "metadata": {},
     "output_type": "execute_result"
    }
   ],
   "source": [
    "import numpy as np\n",
    "import pandas as pd\n",
    "import matplotlib.pyplot as plt\n",
    "from sklearn.linear_model import LinearRegression\n",
    "from sklearn.model_selection import train_test_split\n",
    "from sklearn.metrics import r2_score, mean_squared_error\n",
    "import seaborn as sns\n",
    "from collections import defaultdict\n",
    "%matplotlib inline\n",
    "\n",
    "df = pd.read_csv('./febrile_seizures.csv')\n",
    "df.head()"
   ]
  },
  {
   "cell_type": "markdown",
   "metadata": {},
   "source": [
    "## Data Preparation\n",
    "\n",
    "It helps to improve the quality of data and prepare, data cleaning first we try to solve problem of corrupted data by filling loosed data manually , normally most of data bases have a problem with missing values so we solved this problem in order to improve data quality.\n",
    "\n",
    "We breakt int feild to check everthing is okay"
   ]
  },
  {
   "cell_type": "code",
   "execution_count": 3,
   "metadata": {},
   "outputs": [
    {
     "data": {
      "text/html": [
       "<div>\n",
       "<style scoped>\n",
       "    .dataframe tbody tr th:only-of-type {\n",
       "        vertical-align: middle;\n",
       "    }\n",
       "\n",
       "    .dataframe tbody tr th {\n",
       "        vertical-align: top;\n",
       "    }\n",
       "\n",
       "    .dataframe thead th {\n",
       "        text-align: right;\n",
       "    }\n",
       "</style>\n",
       "<table border=\"1\" class=\"dataframe\">\n",
       "  <thead>\n",
       "    <tr style=\"text-align: right;\">\n",
       "      <th></th>\n",
       "      <th>index</th>\n",
       "      <th>Working in health</th>\n",
       "    </tr>\n",
       "  </thead>\n",
       "  <tbody>\n",
       "    <tr>\n",
       "      <th>0</th>\n",
       "      <td>nonH</td>\n",
       "      <td>750</td>\n",
       "    </tr>\n",
       "    <tr>\n",
       "      <th>1</th>\n",
       "      <td>Health</td>\n",
       "      <td>77</td>\n",
       "    </tr>\n",
       "  </tbody>\n",
       "</table>\n",
       "</div>"
      ],
      "text/plain": [
       "    index  Working in health\n",
       "0    nonH                750\n",
       "1  Health                 77"
      ]
     },
     "execution_count": 3,
     "metadata": {},
     "output_type": "execute_result"
    }
   ],
   "source": [
    "#Show the numbers of users depend on working in health\n",
    "\n",
    "health = df['Working in health'].value_counts().reset_index()\n",
    "health.head()"
   ]
  },
  {
   "cell_type": "code",
   "execution_count": 11,
   "metadata": {},
   "outputs": [
    {
     "data": {
      "text/html": [
       "<div>\n",
       "<style scoped>\n",
       "    .dataframe tbody tr th:only-of-type {\n",
       "        vertical-align: middle;\n",
       "    }\n",
       "\n",
       "    .dataframe tbody tr th {\n",
       "        vertical-align: top;\n",
       "    }\n",
       "\n",
       "    .dataframe thead th {\n",
       "        text-align: right;\n",
       "    }\n",
       "</style>\n",
       "<table border=\"1\" class=\"dataframe\">\n",
       "  <thead>\n",
       "    <tr style=\"text-align: right;\">\n",
       "      <th></th>\n",
       "      <th>index</th>\n",
       "      <th>Where are you living</th>\n",
       "    </tr>\n",
       "  </thead>\n",
       "  <tbody>\n",
       "    <tr>\n",
       "      <th>0</th>\n",
       "      <td>Eastern</td>\n",
       "      <td>523</td>\n",
       "    </tr>\n",
       "    <tr>\n",
       "      <th>1</th>\n",
       "      <td>middle</td>\n",
       "      <td>194</td>\n",
       "    </tr>\n",
       "    <tr>\n",
       "      <th>2</th>\n",
       "      <td>West</td>\n",
       "      <td>63</td>\n",
       "    </tr>\n",
       "    <tr>\n",
       "      <th>3</th>\n",
       "      <td>south</td>\n",
       "      <td>27</td>\n",
       "    </tr>\n",
       "    <tr>\n",
       "      <th>4</th>\n",
       "      <td>north</td>\n",
       "      <td>16</td>\n",
       "    </tr>\n",
       "  </tbody>\n",
       "</table>\n",
       "</div>"
      ],
      "text/plain": [
       "     index  Where are you living \n",
       "0  Eastern                    523\n",
       "1   middle                    194\n",
       "2     West                     63\n",
       "3    south                     27\n",
       "4    north                     16"
      ]
     },
     "execution_count": 11,
     "metadata": {},
     "output_type": "execute_result"
    }
   ],
   "source": [
    "# number of users by province\n",
    "\n",
    "province = df['Where are you living '].value_counts().reset_index()\n",
    "province.head()"
   ]
  },
  {
   "cell_type": "code",
   "execution_count": null,
   "metadata": {},
   "outputs": [],
   "source": [
    "#Change index to appropriate name = method\n",
    "\n",
    "province.rename(columns={'index': 'method', 'Where are you living': 'count'}, inplace=True)\n",
    "province.head()"
   ]
  },
  {
   "cell_type": "markdown",
   "metadata": {},
   "source": [
    "### Modeling and results :\n",
    "\n",
    "After the Data Preparation process, as part of our supervised learning we did two classification for our data .By using linear regression.\n",
    "We classify the data according:\n",
    "\n",
    "1. The people who working and not working in the health industry.\n",
    "2. Education level."
   ]
  },
  {
   "cell_type": "markdown",
   "metadata": {},
   "source": [
    "### 1. who are the participants?"
   ]
  },
  {
   "cell_type": "markdown",
   "metadata": {},
   "source": [
    "* #### Depaend on Social Status "
   ]
  },
  {
   "cell_type": "code",
   "execution_count": 4,
   "metadata": {},
   "outputs": [
    {
     "data": {
      "text/plain": [
       "(124, 37)"
      ]
     },
     "execution_count": 4,
     "metadata": {},
     "output_type": "execute_result"
    }
   ],
   "source": [
    "# We are intersted to participants and their info\n",
    "\n",
    "# The number of Participants depend on Social Status , 703 are married  , 124 not married\n",
    "\n",
    "married_df = df[df['Social Status'] == 'Married']\n",
    "single_df = df[df['Social Status'] == 'Single']\n",
    "single_df.shape"
   ]
  },
  {
   "cell_type": "code",
   "execution_count": 7,
   "metadata": {},
   "outputs": [
    {
     "data": {
      "text/plain": [
       "Married    703\n",
       "Single     124\n",
       "Name: Social Status, dtype: int64"
      ]
     },
     "execution_count": 7,
     "metadata": {},
     "output_type": "execute_result"
    }
   ],
   "source": [
    "# The number of Participants depend on Social Status \n",
    "\n",
    "df['Social Status'].value_counts()"
   ]
  },
  {
   "cell_type": "code",
   "execution_count": 6,
   "metadata": {},
   "outputs": [
    {
     "data": {
      "text/plain": [
       "(124, 37)"
      ]
     },
     "execution_count": 6,
     "metadata": {},
     "output_type": "execute_result"
    }
   ],
   "source": [
    "# We are intersted to participants and their info\n",
    "\n",
    "# The number of Participants depend on Social Status , 703 are married  , 124 not married\n",
    "\n",
    "married_df = df[df['Social Status'] == 'Married']\n",
    "single_df = df[df['Social Status'] == 'Single']\n",
    "single_df.shape"
   ]
  },
  {
   "cell_type": "code",
   "execution_count": 11,
   "metadata": {},
   "outputs": [
    {
     "data": {
      "text/plain": [
       "(662, 37)"
      ]
     },
     "execution_count": 11,
     "metadata": {},
     "output_type": "execute_result"
    }
   ],
   "source": [
    "# The number of Participants depend on Gender , 165 are male  , 662 are female\n",
    "\n",
    "male_df = df[df['Gender'] == 'male']\n",
    "female_df = df[df['Gender'] == 'Female']\n",
    "female_df.shape"
   ]
  },
  {
   "cell_type": "code",
   "execution_count": 8,
   "metadata": {},
   "outputs": [
    {
     "data": {
      "text/plain": [
       "Female    662\n",
       "male      165\n",
       "Name: Gender, dtype: int64"
      ]
     },
     "execution_count": 8,
     "metadata": {},
     "output_type": "execute_result"
    }
   ],
   "source": [
    "# The number of Participants depend on Gender \n",
    "\n",
    "df['Gender'].value_counts()"
   ]
  },
  {
   "cell_type": "code",
   "execution_count": 9,
   "metadata": {},
   "outputs": [
    {
     "data": {
      "text/plain": [
       "Female    0.800484\n",
       "male      0.199516\n",
       "Name: Gender, dtype: float64"
      ]
     },
     "execution_count": 9,
     "metadata": {},
     "output_type": "execute_result"
    }
   ],
   "source": [
    "# The percentage of number of Participants depend on Gender \n",
    "\n",
    "df['Gender'].value_counts()/df['Gender'].shape"
   ]
  },
  {
   "cell_type": "code",
   "execution_count": 12,
   "metadata": {},
   "outputs": [
    {
     "data": {
      "text/plain": [
       "college    102\n",
       "phd         40\n",
       "high        23\n",
       "Name: Education level, dtype: int64"
      ]
     },
     "execution_count": 12,
     "metadata": {},
     "output_type": "execute_result"
    }
   ],
   "source": [
    "# Males and their education Level \n",
    "\n",
    "male_df['Education level'].value_counts()"
   ]
  },
  {
   "cell_type": "code",
   "execution_count": 13,
   "metadata": {},
   "outputs": [
    {
     "data": {
      "text/plain": [
       "college    0.618182\n",
       "phd        0.242424\n",
       "high       0.139394\n",
       "Name: Education level, dtype: float64"
      ]
     },
     "execution_count": 13,
     "metadata": {},
     "output_type": "execute_result"
    }
   ],
   "source": [
    "# males and their education Level \n",
    "\n",
    "male_df['Education level'].value_counts()/(male_df.shape[0] - sum(male_df['Education level'].isnull()))"
   ]
  },
  {
   "cell_type": "code",
   "execution_count": 14,
   "metadata": {},
   "outputs": [
    {
     "data": {
      "text/plain": [
       "college    0.679758\n",
       "high       0.194864\n",
       "phd        0.096677\n",
       "Less       0.028701\n",
       "Name: Education level, dtype: float64"
      ]
     },
     "execution_count": 14,
     "metadata": {},
     "output_type": "execute_result"
    }
   ],
   "source": [
    "# females and their education Level \n",
    "\n",
    "female_df['Education level'].value_counts()# females and their education Level \n",
    "\n",
    "female_df['Education level'].value_counts()/(female_df.shape[0] - sum(female_df['Education level'].isnull()))"
   ]
  },
  {
   "cell_type": "markdown",
   "metadata": {},
   "source": [
    "* ####  Depend on Education Level"
   ]
  },
  {
   "cell_type": "code",
   "execution_count": 15,
   "metadata": {},
   "outputs": [
    {
     "data": {
      "text/plain": [
       "(152, 37)"
      ]
     },
     "execution_count": 15,
     "metadata": {},
     "output_type": "execute_result"
    }
   ],
   "source": [
    "# We are intersted here in Education level\n",
    "\n",
    "# College Level = 552\n",
    "# High level = 152\n",
    "# Phd Level = 104\n",
    "# less = 19\n",
    "\n",
    "college_df = df[df['Education level'] == 'college']\n",
    "high_df = df[df['Education level'] == 'high']\n",
    "phd_df = df[df['Education level'] == 'phd']\n",
    "less_df = df[df['Education level'] == 'Less']\n",
    "high_df.shape"
   ]
  },
  {
   "cell_type": "code",
   "execution_count": 16,
   "metadata": {},
   "outputs": [
    {
     "data": {
      "text/plain": [
       "college    0.667473\n",
       "high       0.183797\n",
       "phd        0.125756\n",
       "Less       0.022975\n",
       "Name: Education level, dtype: float64"
      ]
     },
     "execution_count": 16,
     "metadata": {},
     "output_type": "execute_result"
    }
   ],
   "source": [
    "# # The percentage of number of Participants depend on Education level \n",
    "\n",
    "df['Education level'].value_counts()/df['Education level'].shape"
   ]
  },
  {
   "cell_type": "code",
   "execution_count": 17,
   "metadata": {},
   "outputs": [
    {
     "data": {
      "image/png": "[encoded data removed]",
      "text/plain": [
       "<Figure size 432x288 with 1 Axes>"
      ]
     },
     "metadata": {},
     "output_type": "display_data"
    }
   ],
   "source": [
    "# Pie charts Education level of participants\n",
    "\n",
    "# College Level = 552\n",
    "# High level = 152\n",
    "# Phd Level = 104\n",
    "# less = 19\n",
    "\n",
    "college = df.loc[df['Education level'] == 'college'].count()[0]\n",
    "high = df.loc[df['Education level'] == 'high'].count()[0]\n",
    "phd = df.loc[df['Education level'] == 'phd'].count()[0]\n",
    "less = df.loc[df['Education level'] == 'Less'].count()[0]\n",
    "labels = ['college', 'high', 'phd' , 'Less']\n",
    "colors = ['#E74C3C','#F1C40F','#3498DB', '#1ABC9C']\n",
    "\n",
    "plt.pie([college , high , phd , less] , labels=labels , colors=colors , autopct = '%.2f')\n",
    "\n",
    "plt.title(\"Education Level\")\n",
    "plt.show()"
   ]
  },
  {
   "cell_type": "code",
   "execution_count": 18,
   "metadata": {},
   "outputs": [
    {
     "data": {
      "image/png": "[encoded data removed]",
      "text/plain": [
       "<Figure size 432x288 with 1 Axes>"
      ]
     },
     "metadata": {},
     "output_type": "display_data"
    }
   ],
   "source": [
    "# Pie charts of participants living\n",
    "\n",
    "e = df.loc[df['Where are you living'] == 'Eastern'].count()[0]\n",
    "m = df.loc[df['Where are you living'] == 'middle'].count()[0]\n",
    "w = df.loc[df['Where are you living'] == 'West'].count()[0]\n",
    "s = df.loc[df['Where are you living'] == 'south'].count()[0]\n",
    "n = df.loc[df['Where are you living'] == 'north'].count()[0]\n",
    "labels = ['Eastern', 'Middle', 'West' , 'South', 'North']\n",
    "colors = ['#E74C3C','#F1C40F','#3498DB','#E67E22','#1ABC9C']\n",
    "\n",
    "plt.pie([e , m , w , s , n] , labels=labels , colors=colors , autopct = '%.2f')\n",
    "\n",
    "plt.title(\"Provinces\")\n",
    "plt.show()"
   ]
  },
  {
   "cell_type": "code",
   "execution_count": 19,
   "metadata": {},
   "outputs": [
    {
     "data": {
      "image/png": "[encoded data removed]",
      "text/plain": [
       "<Figure size 432x288 with 1 Axes>"
      ]
     },
     "metadata": {},
     "output_type": "display_data"
    }
   ],
   "source": [
    "# Pie chart of Participants working in health, 77 working in health , 750 not working in health\n",
    "\n",
    "yes =df.loc[df['Working in health'] == 'Health'].count()[0]\n",
    "no = df.loc[df['Working in health'] == 'nonH'].count()[0]\n",
    "labels = ['Yes', 'No']\n",
    "colors = ['#FFA07A','#CD5C5C']\n",
    "\n",
    "plt.pie([yes , no] , labels=labels , colors=colors , autopct = '%.2f')\n",
    "\n",
    "plt.title(\"Working In Health?\")\n",
    "plt.show()\n"
   ]
  },
  {
   "cell_type": "markdown",
   "metadata": {},
   "source": [
    "\n",
    "\n",
    "### 2. Has one of your family children ever had convulsions?\n",
    "\n",
    "Fever attacks are seizures or spasm that occur for children caused by fever. The highest risk of febrile seizures occurred to children aged between 6 months to 5 years."
   ]
  },
  {
   "cell_type": "code",
   "execution_count": 20,
   "metadata": {},
   "outputs": [
    {
     "data": {
      "image/png": "[encoded data removed]",
      "text/plain": [
       "<Figure size 432x288 with 1 Axes>"
      ]
     },
     "metadata": {},
     "output_type": "display_data"
    }
   ],
   "source": [
    "# Pie chart of 'child had convulsions question (ALl Participants)   \n",
    "\n",
    "\n",
    "yes = df.loc[df['child had convulsions'] == 'Yes'].count()[0]\n",
    "no = df.loc[df['child had convulsions'] == 'No'].count()[0]\n",
    "more = df.loc[df['child had convulsions'] == 'More than one'].count()[0]\n",
    "labels = ['Yes', 'No', 'More than one']\n",
    "colors = ['#FA8072','#FFA07A','#CD5C5C']\n",
    "\n",
    "plt.pie([yes , no , more] , labels=labels , colors=colors , autopct = '%.2f')\n",
    "\n",
    "plt.title(\"Child Had Convulsions\")\n",
    "plt.show()"
   ]
  },
  {
   "cell_type": "markdown",
   "metadata": {},
   "source": [
    "###  3. Having thermometer at home?\n",
    "\n",
    "Results leads to discovering both groups do not have enough awareness about the importance of thermometer at home and how it can help to detect and observe child temperature to protect children from friable seizure."
   ]
  },
  {
   "cell_type": "code",
   "execution_count": 21,
   "metadata": {},
   "outputs": [
    {
     "data": {
      "text/plain": [
       "(750, 37)"
      ]
     },
     "execution_count": 21,
     "metadata": {},
     "output_type": "execute_result"
    }
   ],
   "source": [
    "# We are intersted in persons working in Health\n",
    "\n",
    "# The number of Participants working in health, 77 working in health , 750 not working in health\n",
    "\n",
    "health_df = df[df['Working in health'] == 'Health']\n",
    "not_health_df = df[df['Working in health'] == 'nonH']\n",
    "not_health_df.shape"
   ]
  },
  {
   "cell_type": "code",
   "execution_count": 22,
   "metadata": {},
   "outputs": [
    {
     "data": {
      "text/plain": [
       "Yes    0.857143\n",
       "No     0.142857\n",
       "Name: having thermometer at home, dtype: float64"
      ]
     },
     "execution_count": 22,
     "metadata": {},
     "output_type": "execute_result"
    }
   ],
   "source": [
    "# The percentage of answers for 'having thermometer at home question (Working in health participants) \n",
    "\n",
    "\n",
    "health_df['having thermometer at home'].value_counts()/(health_df.shape[0] - sum(health_df['having thermometer at home'].isnull()))"
   ]
  },
  {
   "cell_type": "code",
   "execution_count": 24,
   "metadata": {},
   "outputs": [
    {
     "data": {
      "text/plain": [
       "Yes    0.834667\n",
       "No     0.165333\n",
       "Name: having thermometer at home, dtype: float64"
      ]
     },
     "execution_count": 24,
     "metadata": {},
     "output_type": "execute_result"
    }
   ],
   "source": [
    "# The percentage of answers for 'having thermometer at home question (Regular  participants) \n",
    "\n",
    "not_health_df['having thermometer at home'].value_counts()/(not_health_df.shape[0] - sum(not_health_df['having thermometer at home'].isnull()))"
   ]
  },
  {
   "cell_type": "code",
   "execution_count": 23,
   "metadata": {},
   "outputs": [
    {
     "data": {
      "image/png": "[encoded data removed]",
      "text/plain": [
       "<Figure size 432x288 with 1 Axes>"
      ]
     },
     "metadata": {},
     "output_type": "display_data"
    },
    {
     "data": {
      "image/png": "[encoded data removed]",
      "text/plain": [
       "<Figure size 432x288 with 1 Axes>"
      ]
     },
     "metadata": {},
     "output_type": "display_data"
    }
   ],
   "source": [
    "# Pie Chart having thermometer at home question (working in health Participants) \n",
    "\n",
    "\n",
    "yes = health_df.loc[health_df['having thermometer at home'] == 'Yes'].count()[0]\n",
    "no = health_df.loc[health_df['having thermometer at home'] == 'No'].count()[0]\n",
    "labels = ['Yes', 'No']\n",
    "colors = ['#FFA07A','#CD5C5C']\n",
    "\n",
    "plt.pie([yes , no] , labels=labels , colors=colors , autopct = '%.2f')\n",
    "\n",
    "plt.title(\"Working In Health Have Thermometer\")\n",
    "plt.show()\n",
    "\n",
    "\n",
    "# Pie Chart having thermometer at home question (Regular Participants) \n",
    "\n",
    "yes = not_health_df.loc[not_health_df['having thermometer at home'] == 'Yes'].count()[0]\n",
    "no = not_health_df.loc[not_health_df['having thermometer at home'] == 'No'].count()[0]\n",
    "labels = ['Yes', 'No']\n",
    "colors = ['#FFA07A','#CD5C5C']\n",
    "\n",
    "plt.pie([yes , no] , labels=labels , colors=colors , autopct = '%.2f')\n",
    "\n",
    "plt.title(\"Regular People Have Thermometer\")\n",
    "plt.show()"
   ]
  },
  {
   "cell_type": "markdown",
   "metadata": {},
   "source": [
    "### 4. Can friable seizure lead to brain damage?\n",
    " \n",
    "In fact according to long-standing and large of body experimental and clinical data some type of seizure lead to neuronal death in the brain."
   ]
  },
  {
   "cell_type": "code",
   "execution_count": 27,
   "metadata": {},
   "outputs": [
    {
     "data": {
      "text/plain": [
       "Yes          0.701299\n",
       "Dont Know    0.220779\n",
       "No           0.077922\n",
       "Name: is it lead to brain damage, dtype: float64"
      ]
     },
     "execution_count": 27,
     "metadata": {},
     "output_type": "execute_result"
    }
   ],
   "source": [
    "# The answers of brain damge question (working in health Participants) \n",
    "\n",
    "health_df['is it lead to brain damage'].value_counts()/(health_df.shape[0] - sum(health_df['is it lead to brain damage'].isnull()))"
   ]
  },
  {
   "cell_type": "code",
   "execution_count": 29,
   "metadata": {},
   "outputs": [
    {
     "data": {
      "text/plain": [
       "Yes          0.717333\n",
       "Dont Know    0.253333\n",
       "No           0.029333\n",
       "Name: is it lead to brain damage, dtype: float64"
      ]
     },
     "execution_count": 29,
     "metadata": {},
     "output_type": "execute_result"
    }
   ],
   "source": [
    " # The percentage of answers for brain damge question (Regular Participants) \n",
    "\n",
    "\n",
    "\n",
    "not_health_df['is it lead to brain damage'].value_counts()/(not_health_df.shape[0] - sum(not_health_df['is it lead to brain damage'].isnull()))"
   ]
  },
  {
   "cell_type": "code",
   "execution_count": 30,
   "metadata": {},
   "outputs": [
    {
     "data": {
      "image/png": "[encoded data removed]",
      "text/plain": [
       "<Figure size 432x288 with 1 Axes>"
      ]
     },
     "metadata": {},
     "output_type": "display_data"
    },
    {
     "data": {
      "image/png": "[encoded data removed]",
      "text/plain": [
       "<Figure size 432x288 with 1 Axes>"
      ]
     },
     "metadata": {},
     "output_type": "display_data"
    }
   ],
   "source": [
    "# Pie chart of brain damge question (Working in Health Participants)   \n",
    "\n",
    "yes = health_df.loc[health_df['is it lead to brain damage'] == 'Yes'].count()[0]\n",
    "no = health_df.loc[health_df['is it lead to brain damage'] == 'No'].count()[0]\n",
    "dont = health_df.loc[health_df['is it lead to brain damage'] == 'Dont Know'].count()[0]\n",
    "labels = ['Yes', 'No', 'Dont Know']\n",
    "colors = ['#CD5C5C','#FA8072','#FFA07A',]\n",
    "\n",
    "plt.pie([yes , no , dont] , labels=labels , colors=colors , autopct = '%.2f')\n",
    "\n",
    "plt.title(\"Lead To Brain Damge (Working in Health)\")\n",
    "plt.show()\n",
    "\n",
    "\n",
    "# Pie Chart brain damge question (Regular Participants) \n",
    "\n",
    "yes = not_health_df.loc[not_health_df['is it lead to brain damage'] == 'Yes'].count()[0]\n",
    "no = not_health_df.loc[not_health_df['is it lead to brain damage'] == 'No'].count()[0]\n",
    "dont = not_health_df.loc[not_health_df['is it lead to brain damage'] == 'Dont Know'].count()[0]\n",
    "labels = ['Yes', 'No', 'Dont Know']\n",
    "colors = ['#CD5C5C','#FA8072','#FFA07A',]\n",
    "\n",
    "plt.pie([yes , no , dont] , labels=labels , colors=colors , autopct = '%.2f')\n",
    "\n",
    "plt.title(\"Lead To Brain Damge (Regular People)\")\n",
    "plt.show()\n",
    "\n",
    "\n"
   ]
  },
  {
   "cell_type": "markdown",
   "metadata": {},
   "source": [
    "### 5. May Febrile seizures result in death?\n",
    "\n",
    "There is one case for a child with febrile seizure who suddenly and unexpectedly died after a suspicious seizure at night while in bed during the beginning of sleep phases. She was revived but they announced her to be brain dead 2 days later at the medical center. \n",
    "\n",
    "After necropsy of the child, they found multi-organs effected because of hypo-perfusion and did not found injury, disease, or toxins cause of death. Therewith a seizure not seen, they have assumed it is the likely cause of death based on the examination of the medical examiner and forensic (author Marcus Nashelsky), the clinical results of post-resuscitation, and various aspects of the clinical background.\n",
    "\n",
    "\n",
    "\n",
    "* The outcomes depend on Edcuation Level: "
   ]
  },
  {
   "cell_type": "code",
   "execution_count": 31,
   "metadata": {},
   "outputs": [
    {
     "data": {
      "text/plain": [
       "Dont Know    283\n",
       "Yes          233\n",
       "No            36\n",
       "Name: is it lead to death, dtype: int64"
      ]
     },
     "execution_count": 31,
     "metadata": {},
     "output_type": "execute_result"
    }
   ],
   "source": [
    "# The number of answers for is it lead to death question (Depend on College level of participants) \n",
    "\n",
    "college_df['is it lead to death'].value_counts()"
   ]
  },
  {
   "cell_type": "code",
   "execution_count": 32,
   "metadata": {},
   "outputs": [
    {
     "data": {
      "text/plain": [
       "Dont Know    0.512681\n",
       "Yes          0.422101\n",
       "No           0.065217\n",
       "Name: is it lead to death, dtype: float64"
      ]
     },
     "execution_count": 32,
     "metadata": {},
     "output_type": "execute_result"
    }
   ],
   "source": [
    "# The percentage of answers for is it lead to death question (Depend on College level of participants) \n",
    "\n",
    "college_df['is it lead to death'].value_counts()/(college_df.shape[0] - sum(college_df['is it lead to death'].isnull()))"
   ]
  },
  {
   "cell_type": "code",
   "execution_count": 33,
   "metadata": {},
   "outputs": [
    {
     "data": {
      "text/plain": [
       "Dont Know    86\n",
       "Yes          49\n",
       "No           17\n",
       "Name: is it lead to death, dtype: int64"
      ]
     },
     "execution_count": 33,
     "metadata": {},
     "output_type": "execute_result"
    }
   ],
   "source": [
    "# The number of answers for is it lead to death question (Depend on High level of participants) \n",
    "\n",
    "high_df['is it lead to death'].value_counts()"
   ]
  },
  {
   "cell_type": "code",
   "execution_count": 34,
   "metadata": {},
   "outputs": [
    {
     "data": {
      "text/plain": [
       "Dont Know    0.565789\n",
       "Yes          0.322368\n",
       "No           0.111842\n",
       "Name: is it lead to death, dtype: float64"
      ]
     },
     "execution_count": 34,
     "metadata": {},
     "output_type": "execute_result"
    }
   ],
   "source": [
    "# The percentage of answers for is it lead to death question (Depend on High level of participants) \n",
    "\n",
    "high_df['is it lead to death'].value_counts()/(high_df.shape[0] - sum(high_df['is it lead to death'].isnull()))"
   ]
  },
  {
   "cell_type": "code",
   "execution_count": 35,
   "metadata": {},
   "outputs": [
    {
     "data": {
      "text/plain": [
       "Dont Know    49\n",
       "Yes          46\n",
       "No            9\n",
       "Name: is it lead to death, dtype: int64"
      ]
     },
     "execution_count": 35,
     "metadata": {},
     "output_type": "execute_result"
    }
   ],
   "source": [
    "# The number of answers for is it lead to death question (Depend on Phd level of participants) \n",
    "\n",
    "phd_df['is it lead to death'].value_counts()"
   ]
  },
  {
   "cell_type": "code",
   "execution_count": 36,
   "metadata": {},
   "outputs": [
    {
     "data": {
      "text/plain": [
       "Dont Know    0.471154\n",
       "Yes          0.442308\n",
       "No           0.086538\n",
       "Name: is it lead to death, dtype: float64"
      ]
     },
     "execution_count": 36,
     "metadata": {},
     "output_type": "execute_result"
    }
   ],
   "source": [
    "# The percentage of answers for is it lead to death question (Depend on Phd level of participants) \n",
    "\n",
    "phd_df['is it lead to death'].value_counts()/(phd_df.shape[0] - sum(phd_df['is it lead to death'].isnull()))"
   ]
  },
  {
   "cell_type": "code",
   "execution_count": 37,
   "metadata": {},
   "outputs": [
    {
     "data": {
      "text/plain": [
       "Dont Know    11\n",
       "Yes           6\n",
       "No            2\n",
       "Name: is it lead to death, dtype: int64"
      ]
     },
     "execution_count": 37,
     "metadata": {},
     "output_type": "execute_result"
    }
   ],
   "source": [
    "# The number of answers for is it lead to death question (Depend on less level of participants) \n",
    "\n",
    "less_df['is it lead to death'].value_counts()"
   ]
  },
  {
   "cell_type": "code",
   "execution_count": 38,
   "metadata": {},
   "outputs": [
    {
     "data": {
      "text/plain": [
       "Dont Know    0.578947\n",
       "Yes          0.315789\n",
       "No           0.105263\n",
       "Name: is it lead to death, dtype: float64"
      ]
     },
     "execution_count": 38,
     "metadata": {},
     "output_type": "execute_result"
    }
   ],
   "source": [
    "# The percentage of answers for is it lead to death question (Depend on less level of participants) \n",
    "\n",
    "less_df['is it lead to death'].value_counts()/(less_df.shape[0] - sum(less_df['is it lead to death'].isnull()))"
   ]
  },
  {
   "cell_type": "markdown",
   "metadata": {},
   "source": [
    "### 6. Do Traditional medicines have benefit?\n",
    "\n",
    "The results show that most of the people working in health do not know if traditional medicines have benefits. \n",
    "\n",
    "However, according to Avicenna (ibn Sina) who has many recommendations, suggestions, and traditional medicines in his book like Chives, Savory, Wormwood, and Dill.\n"
   ]
  },
  {
   "cell_type": "code",
   "execution_count": 39,
   "metadata": {},
   "outputs": [
    {
     "data": {
      "image/png": "[encoded data removed]",
      "text/plain": [
       "<Figure size 432x288 with 1 Axes>"
      ]
     },
     "metadata": {},
     "output_type": "display_data"
    }
   ],
   "source": [
    "# Pie chart of Traditional medicines have benefit question (Working in Health Participants)   \n",
    "\n",
    "\n",
    "yes = health_df.loc[health_df['Traditional medicines have benefit'] == 'Yes'].count()[0]\n",
    "no = health_df.loc[health_df['Traditional medicines have benefit'] == 'No'].count()[0]\n",
    "dont = health_df.loc[health_df['Traditional medicines have benefit'] == 'Dont Know'].count()[0]\n",
    "labels = ['Yes', 'No', 'Dont Know']\n",
    "colors = ['#FFA07A','#CD5C5C','#FA8072']\n",
    "\n",
    "plt.pie([yes , no , dont] , labels=labels , colors=colors , autopct = '%.2f')\n",
    "\n",
    "plt.title(\"Traditional medicines have benefit\")\n",
    "plt.show()"
   ]
  },
  {
   "cell_type": "code",
   "execution_count": null,
   "metadata": {},
   "outputs": [],
   "source": []
  }
 ],
 "metadata": {
  "kernelspec": {
   "display_name": "Python 3",
   "language": "python",
   "name": "python3"
  },
  "language_info": {
   "codemirror_mode": {
    "name": "ipython",
    "version": 3
   },
   "file_extension": ".py",
   "mimetype": "text/x-python",
   "name": "python",
   "nbconvert_exporter": "python",
   "pygments_lexer": "ipython3",
   "version": "3.8.2"
  }
 },
 "nbformat": 4,
 "nbformat_minor": 4
}
