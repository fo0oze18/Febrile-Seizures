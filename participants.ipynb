{
 "cells": [
  {
   "cell_type": "code",
   "execution_count": 18,
   "metadata": {},
   "outputs": [
    {
     "data": {
      "text/html": [
       "<div>\n",
       "<style scoped>\n",
       "    .dataframe tbody tr th:only-of-type {\n",
       "        vertical-align: middle;\n",
       "    }\n",
       "\n",
       "    .dataframe tbody tr th {\n",
       "        vertical-align: top;\n",
       "    }\n",
       "\n",
       "    .dataframe thead th {\n",
       "        text-align: right;\n",
       "    }\n",
       "</style>\n",
       "<table border=\"1\" class=\"dataframe\">\n",
       "  <thead>\n",
       "    <tr style=\"text-align: right;\">\n",
       "      <th></th>\n",
       "      <th>Gender</th>\n",
       "      <th>Social Status</th>\n",
       "      <th>Age</th>\n",
       "      <th>Education level</th>\n",
       "      <th>Working in health</th>\n",
       "      <th>Where are you living</th>\n",
       "      <th>child had convulsions</th>\n",
       "      <th>Temperature cause convulsions</th>\n",
       "      <th>Spasm is a type of epilepsy</th>\n",
       "      <th>Is it dangerous up to 5 years</th>\n",
       "      <th>...</th>\n",
       "      <th>Child with cramps should be placed on his left or right side</th>\n",
       "      <th>necessary to observe the apparent child characteristics</th>\n",
       "      <th>Child should be taken to the doctor immediately</th>\n",
       "      <th>Put anything inside child mouth prevent child from biting his teeth with force</th>\n",
       "      <th>Child must be resuscitated by introducing air through mouth</th>\n",
       "      <th>Secretions should be withdrawn</th>\n",
       "      <th>Heart must be refreshed</th>\n",
       "      <th>Dealing with a child when has a cramp</th>\n",
       "      <th>having thermometer at home</th>\n",
       "      <th>Know how to use thermometer</th>\n",
       "    </tr>\n",
       "  </thead>\n",
       "  <tbody>\n",
       "    <tr>\n",
       "      <th>0</th>\n",
       "      <td>male</td>\n",
       "      <td>Single</td>\n",
       "      <td>20 - 25</td>\n",
       "      <td>college</td>\n",
       "      <td>Health</td>\n",
       "      <td>Eastern</td>\n",
       "      <td>No</td>\n",
       "      <td>Yes</td>\n",
       "      <td>No</td>\n",
       "      <td>Yes</td>\n",
       "      <td>...</td>\n",
       "      <td>Dont Know</td>\n",
       "      <td>Yes</td>\n",
       "      <td>No</td>\n",
       "      <td>No</td>\n",
       "      <td>No</td>\n",
       "      <td>Yes</td>\n",
       "      <td>No</td>\n",
       "      <td>Yes</td>\n",
       "      <td>Yes</td>\n",
       "      <td>Yes</td>\n",
       "    </tr>\n",
       "    <tr>\n",
       "      <th>1</th>\n",
       "      <td>Female</td>\n",
       "      <td>Single</td>\n",
       "      <td>20 - 25</td>\n",
       "      <td>college</td>\n",
       "      <td>nonH</td>\n",
       "      <td>Eastern</td>\n",
       "      <td>No</td>\n",
       "      <td>Yes</td>\n",
       "      <td>Dont Know</td>\n",
       "      <td>Yes</td>\n",
       "      <td>...</td>\n",
       "      <td>Dont Know</td>\n",
       "      <td>Yes</td>\n",
       "      <td>Dont Know</td>\n",
       "      <td>Dont Know</td>\n",
       "      <td>Dont Know</td>\n",
       "      <td>Dont Know</td>\n",
       "      <td>Dont Know</td>\n",
       "      <td>Dont Know</td>\n",
       "      <td>No</td>\n",
       "      <td>Yes</td>\n",
       "    </tr>\n",
       "    <tr>\n",
       "      <th>2</th>\n",
       "      <td>male</td>\n",
       "      <td>Married</td>\n",
       "      <td>26 - 40</td>\n",
       "      <td>college</td>\n",
       "      <td>nonH</td>\n",
       "      <td>Eastern</td>\n",
       "      <td>No</td>\n",
       "      <td>Yes</td>\n",
       "      <td>No</td>\n",
       "      <td>Yes</td>\n",
       "      <td>...</td>\n",
       "      <td>Dont Know</td>\n",
       "      <td>Yes</td>\n",
       "      <td>No</td>\n",
       "      <td>Dont Know</td>\n",
       "      <td>No</td>\n",
       "      <td>No</td>\n",
       "      <td>No</td>\n",
       "      <td>Dont Know</td>\n",
       "      <td>Yes</td>\n",
       "      <td>Yes</td>\n",
       "    </tr>\n",
       "    <tr>\n",
       "      <th>3</th>\n",
       "      <td>Female</td>\n",
       "      <td>Married</td>\n",
       "      <td>40 - 60</td>\n",
       "      <td>college</td>\n",
       "      <td>nonH</td>\n",
       "      <td>Eastern</td>\n",
       "      <td>No</td>\n",
       "      <td>Yes</td>\n",
       "      <td>No</td>\n",
       "      <td>Yes</td>\n",
       "      <td>...</td>\n",
       "      <td>Dont Know</td>\n",
       "      <td>Yes</td>\n",
       "      <td>No</td>\n",
       "      <td>Yes</td>\n",
       "      <td>Yes</td>\n",
       "      <td>Yes</td>\n",
       "      <td>Dont Know</td>\n",
       "      <td>No</td>\n",
       "      <td>Yes</td>\n",
       "      <td>Yes</td>\n",
       "    </tr>\n",
       "    <tr>\n",
       "      <th>4</th>\n",
       "      <td>Female</td>\n",
       "      <td>Married</td>\n",
       "      <td>40 - 60</td>\n",
       "      <td>college</td>\n",
       "      <td>Health</td>\n",
       "      <td>Eastern</td>\n",
       "      <td>No</td>\n",
       "      <td>Yes</td>\n",
       "      <td>Yes</td>\n",
       "      <td>Yes</td>\n",
       "      <td>...</td>\n",
       "      <td>Dont Know</td>\n",
       "      <td>Yes</td>\n",
       "      <td>No</td>\n",
       "      <td>Yes</td>\n",
       "      <td>Dont Know</td>\n",
       "      <td>Dont Know</td>\n",
       "      <td>Dont Know</td>\n",
       "      <td>Dont Know</td>\n",
       "      <td>Yes</td>\n",
       "      <td>Yes</td>\n",
       "    </tr>\n",
       "  </tbody>\n",
       "</table>\n",
       "<p>5 rows × 37 columns</p>\n",
       "</div>"
      ],
      "text/plain": [
       "   Gender Social Status      Age Education level Working in health  \\\n",
       "0    male        Single  20 - 25         college            Health   \n",
       "1  Female        Single  20 - 25         college              nonH   \n",
       "2    male       Married  26 - 40         college              nonH   \n",
       "3  Female       Married  40 - 60         college              nonH   \n",
       "4  Female       Married  40 - 60         college            Health   \n",
       "\n",
       "  Where are you living child had convulsions Temperature cause convulsions  \\\n",
       "0              Eastern                    No                           Yes   \n",
       "1              Eastern                    No                           Yes   \n",
       "2              Eastern                    No                           Yes   \n",
       "3              Eastern                    No                           Yes   \n",
       "4              Eastern                    No                           Yes   \n",
       "\n",
       "  Spasm is a type of epilepsy Is it dangerous up to 5 years   ...  \\\n",
       "0                          No                            Yes  ...   \n",
       "1                   Dont Know                            Yes  ...   \n",
       "2                          No                            Yes  ...   \n",
       "3                          No                            Yes  ...   \n",
       "4                         Yes                            Yes  ...   \n",
       "\n",
       "  Child with cramps should be placed on his left or right side  \\\n",
       "0                                          Dont Know             \n",
       "1                                          Dont Know             \n",
       "2                                          Dont Know             \n",
       "3                                          Dont Know             \n",
       "4                                          Dont Know             \n",
       "\n",
       "   necessary to observe the apparent child characteristics  \\\n",
       "0                                                Yes         \n",
       "1                                                Yes         \n",
       "2                                                Yes         \n",
       "3                                                Yes         \n",
       "4                                                Yes         \n",
       "\n",
       "  Child should be taken to the doctor immediately   \\\n",
       "0                                               No   \n",
       "1                                        Dont Know   \n",
       "2                                               No   \n",
       "3                                               No   \n",
       "4                                               No   \n",
       "\n",
       "  Put anything inside child mouth prevent child from biting his teeth with force  \\\n",
       "0                                                 No                               \n",
       "1                                          Dont Know                               \n",
       "2                                          Dont Know                               \n",
       "3                                                Yes                               \n",
       "4                                                Yes                               \n",
       "\n",
       "  Child must be resuscitated by introducing air through mouth  \\\n",
       "0                                                 No            \n",
       "1                                          Dont Know            \n",
       "2                                                 No            \n",
       "3                                                Yes            \n",
       "4                                          Dont Know            \n",
       "\n",
       "  Secretions should be withdrawn Heart must be refreshed  \\\n",
       "0                            Yes                      No   \n",
       "1                      Dont Know               Dont Know   \n",
       "2                             No                      No   \n",
       "3                            Yes               Dont Know   \n",
       "4                      Dont Know               Dont Know   \n",
       "\n",
       "  Dealing with a child when has a cramp having thermometer at home  \\\n",
       "0                                   Yes                        Yes   \n",
       "1                             Dont Know                         No   \n",
       "2                             Dont Know                        Yes   \n",
       "3                                    No                        Yes   \n",
       "4                             Dont Know                        Yes   \n",
       "\n",
       "  Know how to use thermometer  \n",
       "0                         Yes  \n",
       "1                         Yes  \n",
       "2                         Yes  \n",
       "3                         Yes  \n",
       "4                         Yes  \n",
       "\n",
       "[5 rows x 37 columns]"
      ]
     },
     "execution_count": 18,
     "metadata": {},
     "output_type": "execute_result"
    }
   ],
   "source": [
    "import numpy as np\n",
    "import pandas as pd\n",
    "import matplotlib.pyplot as plt\n",
    "from sklearn.linear_model import LinearRegression\n",
    "from sklearn.model_selection import train_test_split\n",
    "from sklearn.metrics import r2_score, mean_squared_error\n",
    "import seaborn as sns\n",
    "from collections import defaultdict\n",
    "%matplotlib inline\n",
    "\n",
    "df = pd.read_csv('./febrile_seizures.csv')\n",
    "df.head()"
   ]
  },
  {
   "cell_type": "code",
   "execution_count": 9,
   "metadata": {},
   "outputs": [
    {
     "data": {
      "text/plain": [
       "(703, 37)"
      ]
     },
     "execution_count": 9,
     "metadata": {},
     "output_type": "execute_result"
    }
   ],
   "source": [
    "married_df = df[df['Social Status'] == 'Married']\n",
    "single_df = df[df['Social Status'] == 'Single']\n",
    "married_df.shape"
   ]
  },
  {
   "cell_type": "code",
   "execution_count": 8,
   "metadata": {},
   "outputs": [
    {
     "data": {
      "text/plain": [
       "Married    703\n",
       "Single     124\n",
       "Name: Social Status, dtype: int64"
      ]
     },
     "execution_count": 8,
     "metadata": {},
     "output_type": "execute_result"
    }
   ],
   "source": [
    "df['Social Status'].value_counts()"
   ]
  },
  {
   "cell_type": "code",
   "execution_count": 36,
   "metadata": {},
   "outputs": [
    {
     "data": {
      "text/plain": [
       "(662, 37)"
      ]
     },
     "execution_count": 36,
     "metadata": {},
     "output_type": "execute_result"
    }
   ],
   "source": [
    "male_df = df[df['Gender'] == 'male']\n",
    "female_df = df[df['Gender'] == 'Female']\n",
    "female_df.shape"
   ]
  },
  {
   "cell_type": "code",
   "execution_count": 40,
   "metadata": {},
   "outputs": [
    {
     "data": {
      "text/plain": [
       "Female    662\n",
       "male      165\n",
       "Name: Gender, dtype: int64"
      ]
     },
     "execution_count": 40,
     "metadata": {},
     "output_type": "execute_result"
    }
   ],
   "source": [
    "df['Gender'].value_counts()"
   ]
  },
  {
   "cell_type": "code",
   "execution_count": 42,
   "metadata": {},
   "outputs": [
    {
     "data": {
      "text/plain": [
       "Female    0.800484\n",
       "male      0.199516\n",
       "Name: Gender, dtype: float64"
      ]
     },
     "execution_count": 42,
     "metadata": {},
     "output_type": "execute_result"
    }
   ],
   "source": [
    "df['Gender'].value_counts()/df['Gender'].shape"
   ]
  },
  {
   "cell_type": "code",
   "execution_count": 37,
   "metadata": {},
   "outputs": [
    {
     "data": {
      "text/plain": [
       "college    102\n",
       "phd         40\n",
       "high        23\n",
       "Name: Education level, dtype: int64"
      ]
     },
     "execution_count": 37,
     "metadata": {},
     "output_type": "execute_result"
    }
   ],
   "source": [
    "male_df['Education level'].value_counts()"
   ]
  },
  {
   "cell_type": "code",
   "execution_count": 38,
   "metadata": {},
   "outputs": [
    {
     "data": {
      "text/plain": [
       "college    0.618182\n",
       "phd        0.242424\n",
       "high       0.139394\n",
       "Name: Education level, dtype: float64"
      ]
     },
     "execution_count": 38,
     "metadata": {},
     "output_type": "execute_result"
    }
   ],
   "source": [
    "male_df['Education level'].value_counts()/(male_df.shape[0] - sum(male_df['Education level'].isnull()))"
   ]
  },
  {
   "cell_type": "code",
   "execution_count": 25,
   "metadata": {},
   "outputs": [
    {
     "data": {
      "text/plain": [
       "college    450\n",
       "high       129\n",
       "phd         64\n",
       "Less        19\n",
       "Name: Education lelvel, dtype: int64"
      ]
     },
     "execution_count": 25,
     "metadata": {},
     "output_type": "execute_result"
    }
   ],
   "source": [
    "female_df['Education level'].value_counts()"
   ]
  },
  {
   "cell_type": "code",
   "execution_count": 39,
   "metadata": {},
   "outputs": [
    {
     "data": {
      "text/plain": [
       "college    0.679758\n",
       "high       0.194864\n",
       "phd        0.096677\n",
       "Less       0.028701\n",
       "Name: Education level, dtype: float64"
      ]
     },
     "execution_count": 39,
     "metadata": {},
     "output_type": "execute_result"
    }
   ],
   "source": [
    "female_df['Education level'].value_counts()/(female_df.shape[0] - sum(female_df['Education level'].isnull()))"
   ]
  },
  {
   "cell_type": "code",
   "execution_count": 10,
   "metadata": {},
   "outputs": [
    {
     "data": {
      "text/plain": [
       "(152, 37)"
      ]
     },
     "execution_count": 10,
     "metadata": {},
     "output_type": "execute_result"
    }
   ],
   "source": [
    "college_df = df[df['Education level'] == 'college']\n",
    "high_df = df[df['Education level'] == 'high']\n",
    "phd_df = df[df['Education level'] == 'phd']\n",
    "less_df = df[df['Education level'] == 'Less']\n",
    "high_df.shape"
   ]
  },
  {
   "cell_type": "code",
   "execution_count": 19,
   "metadata": {},
   "outputs": [
    {
     "data": {
      "text/plain": [
       "college    0.667473\n",
       "high       0.183797\n",
       "phd        0.125756\n",
       "Less       0.022975\n",
       "Name: Education level, dtype: float64"
      ]
     },
     "execution_count": 19,
     "metadata": {},
     "output_type": "execute_result"
    }
   ],
   "source": [
    "df['Education level'].value_counts()/df['Education level'].shape"
   ]
  },
  {
   "cell_type": "code",
   "execution_count": 13,
   "metadata": {},
   "outputs": [
    {
     "data": {
      "image/png": "[encoded data removed]",
      "text/plain": [
       "<Figure size 432x288 with 1 Axes>"
      ]
     },
     "metadata": {},
     "output_type": "display_data"
    }
   ],
   "source": [
    "college = df.loc[df['Education level'] == 'college'].count()[0]\n",
    "high = df.loc[df['Education level'] == 'high'].count()[0]\n",
    "phd = df.loc[df['Education level'] == 'phd'].count()[0]\n",
    "less = df.loc[df['Education level'] == 'Less'].count()[0]\n",
    "labels = ['college', 'high', 'phd' , 'Less']\n",
    "colors = ['#E74C3C','#F1C40F','#3498DB', '#1ABC9C']\n",
    "\n",
    "plt.pie([college , high , phd , less] , labels=labels , colors=colors , autopct = '%.2f')\n",
    "\n",
    "plt.title(\"Education Level\")\n",
    "plt.show()"
   ]
  },
  {
   "cell_type": "code",
   "execution_count": 45,
   "metadata": {},
   "outputs": [
    {
     "data": {
      "text/plain": [
       "Female    450\n",
       "male      102\n",
       "Name: Gender, dtype: int64"
      ]
     },
     "execution_count": 45,
     "metadata": {},
     "output_type": "execute_result"
    }
   ],
   "source": [
    "college_df['Gender'].value_counts()"
   ]
  },
  {
   "cell_type": "code",
   "execution_count": 47,
   "metadata": {},
   "outputs": [
    {
     "data": {
      "text/plain": [
       "Female    129\n",
       "male       23\n",
       "Name: Gender, dtype: int64"
      ]
     },
     "execution_count": 47,
     "metadata": {},
     "output_type": "execute_result"
    }
   ],
   "source": [
    "high_df['Gender'].value_counts()"
   ]
  },
  {
   "cell_type": "code",
   "execution_count": 11,
   "metadata": {},
   "outputs": [
    {
     "data": {
      "text/plain": [
       "Female    64\n",
       "male      40\n",
       "Name: Gender, dtype: int64"
      ]
     },
     "execution_count": 11,
     "metadata": {},
     "output_type": "execute_result"
    }
   ],
   "source": [
    "phd_df['Gender'].value_counts()"
   ]
  },
  {
   "cell_type": "code",
   "execution_count": 12,
   "metadata": {},
   "outputs": [
    {
     "data": {
      "text/plain": [
       "Female    19\n",
       "Name: Gender, dtype: int64"
      ]
     },
     "execution_count": 12,
     "metadata": {},
     "output_type": "execute_result"
    }
   ],
   "source": [
    "less_df['Gender'].value_counts()"
   ]
  },
  {
   "cell_type": "code",
   "execution_count": 22,
   "metadata": {},
   "outputs": [
    {
     "data": {
      "image/png": "[encoded data removed]",
      "text/plain": [
       "<Figure size 432x288 with 1 Axes>"
      ]
     },
     "metadata": {},
     "output_type": "display_data"
    }
   ],
   "source": [
    "e = df.loc[df['Where are you living'] == 'Eastern'].count()[0]\n",
    "m = df.loc[df['Where are you living'] == 'middle'].count()[0]\n",
    "w = df.loc[df['Where are you living'] == 'West'].count()[0]\n",
    "s = df.loc[df['Where are you living'] == 'south'].count()[0]\n",
    "n = df.loc[df['Where are you living'] == 'north'].count()[0]\n",
    "labels = ['Eastern', 'Middle', 'West' , 'South', 'North']\n",
    "colors = ['#E74C3C','#F1C40F','#3498DB','#E67E22','#1ABC9C']\n",
    "\n",
    "plt.pie([e , m , w , s , n] , labels=labels , colors=colors , autopct = '%.2f')\n",
    "\n",
    "plt.title(\"Provinces\")\n",
    "plt.show()"
   ]
  },
  {
   "cell_type": "code",
   "execution_count": null,
   "metadata": {},
   "outputs": [],
   "source": []
  }
 ],
 "metadata": {
  "kernelspec": {
   "display_name": "Python 3",
   "language": "python",
   "name": "python3"
  },
  "language_info": {
   "codemirror_mode": {
    "name": "ipython",
    "version": 3
   },
   "file_extension": ".py",
   "mimetype": "text/x-python",
   "name": "python",
   "nbconvert_exporter": "python",
   "pygments_lexer": "ipython3",
   "version": "3.8.2"
  }
 },
 "nbformat": 4,
 "nbformat_minor": 4
}
