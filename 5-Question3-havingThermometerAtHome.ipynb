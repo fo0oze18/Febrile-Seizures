{
 "cells": [
  {
   "cell_type": "code",
   "execution_count": 1,
   "metadata": {},
   "outputs": [
    {
     "data": {
      "text/html": [
       "<div>\n",
       "<style scoped>\n",
       "    .dataframe tbody tr th:only-of-type {\n",
       "        vertical-align: middle;\n",
       "    }\n",
       "\n",
       "    .dataframe tbody tr th {\n",
       "        vertical-align: top;\n",
       "    }\n",
       "\n",
       "    .dataframe thead th {\n",
       "        text-align: right;\n",
       "    }\n",
       "</style>\n",
       "<table border=\"1\" class=\"dataframe\">\n",
       "  <thead>\n",
       "    <tr style=\"text-align: right;\">\n",
       "      <th></th>\n",
       "      <th>Gender</th>\n",
       "      <th>Social Status</th>\n",
       "      <th>Age</th>\n",
       "      <th>Education level</th>\n",
       "      <th>Working in health</th>\n",
       "      <th>Where are you living</th>\n",
       "      <th>child had convulsions</th>\n",
       "      <th>Temperature cause convulsions</th>\n",
       "      <th>Spasm is a type of epilepsy</th>\n",
       "      <th>Is it dangerous up to 5 years</th>\n",
       "      <th>...</th>\n",
       "      <th>Child with cramps should be placed on his left or right side</th>\n",
       "      <th>necessary to observe the apparent child characteristics</th>\n",
       "      <th>Child should be taken to the doctor immediately</th>\n",
       "      <th>Put anything inside child mouth prevent child from biting his teeth with force</th>\n",
       "      <th>Child must be resuscitated by introducing air through mouth</th>\n",
       "      <th>Secretions should be withdrawn</th>\n",
       "      <th>Heart must be refreshed</th>\n",
       "      <th>Dealing with a child when has a cramp</th>\n",
       "      <th>having thermometer at home</th>\n",
       "      <th>Know how to use thermometer</th>\n",
       "    </tr>\n",
       "  </thead>\n",
       "  <tbody>\n",
       "    <tr>\n",
       "      <th>0</th>\n",
       "      <td>male</td>\n",
       "      <td>Single</td>\n",
       "      <td>20 - 25</td>\n",
       "      <td>college</td>\n",
       "      <td>Health</td>\n",
       "      <td>Eastern</td>\n",
       "      <td>No</td>\n",
       "      <td>Yes</td>\n",
       "      <td>No</td>\n",
       "      <td>Yes</td>\n",
       "      <td>...</td>\n",
       "      <td>Dont Know</td>\n",
       "      <td>Yes</td>\n",
       "      <td>No</td>\n",
       "      <td>No</td>\n",
       "      <td>No</td>\n",
       "      <td>Yes</td>\n",
       "      <td>No</td>\n",
       "      <td>Yes</td>\n",
       "      <td>Yes</td>\n",
       "      <td>Yes</td>\n",
       "    </tr>\n",
       "    <tr>\n",
       "      <th>1</th>\n",
       "      <td>Female</td>\n",
       "      <td>Single</td>\n",
       "      <td>20 - 25</td>\n",
       "      <td>college</td>\n",
       "      <td>nonH</td>\n",
       "      <td>Eastern</td>\n",
       "      <td>No</td>\n",
       "      <td>Yes</td>\n",
       "      <td>Dont Know</td>\n",
       "      <td>Yes</td>\n",
       "      <td>...</td>\n",
       "      <td>Dont Know</td>\n",
       "      <td>Yes</td>\n",
       "      <td>Dont Know</td>\n",
       "      <td>Dont Know</td>\n",
       "      <td>Dont Know</td>\n",
       "      <td>Dont Know</td>\n",
       "      <td>Dont Know</td>\n",
       "      <td>Dont Know</td>\n",
       "      <td>No</td>\n",
       "      <td>Yes</td>\n",
       "    </tr>\n",
       "    <tr>\n",
       "      <th>2</th>\n",
       "      <td>male</td>\n",
       "      <td>Married</td>\n",
       "      <td>26 - 40</td>\n",
       "      <td>college</td>\n",
       "      <td>nonH</td>\n",
       "      <td>Eastern</td>\n",
       "      <td>No</td>\n",
       "      <td>Yes</td>\n",
       "      <td>No</td>\n",
       "      <td>Yes</td>\n",
       "      <td>...</td>\n",
       "      <td>Dont Know</td>\n",
       "      <td>Yes</td>\n",
       "      <td>No</td>\n",
       "      <td>Dont Know</td>\n",
       "      <td>No</td>\n",
       "      <td>No</td>\n",
       "      <td>No</td>\n",
       "      <td>Dont Know</td>\n",
       "      <td>Yes</td>\n",
       "      <td>Yes</td>\n",
       "    </tr>\n",
       "    <tr>\n",
       "      <th>3</th>\n",
       "      <td>Female</td>\n",
       "      <td>Married</td>\n",
       "      <td>40 - 60</td>\n",
       "      <td>college</td>\n",
       "      <td>nonH</td>\n",
       "      <td>Eastern</td>\n",
       "      <td>No</td>\n",
       "      <td>Yes</td>\n",
       "      <td>No</td>\n",
       "      <td>Yes</td>\n",
       "      <td>...</td>\n",
       "      <td>Dont Know</td>\n",
       "      <td>Yes</td>\n",
       "      <td>No</td>\n",
       "      <td>Yes</td>\n",
       "      <td>Yes</td>\n",
       "      <td>Yes</td>\n",
       "      <td>Dont Know</td>\n",
       "      <td>No</td>\n",
       "      <td>Yes</td>\n",
       "      <td>Yes</td>\n",
       "    </tr>\n",
       "    <tr>\n",
       "      <th>4</th>\n",
       "      <td>Female</td>\n",
       "      <td>Married</td>\n",
       "      <td>40 - 60</td>\n",
       "      <td>college</td>\n",
       "      <td>Health</td>\n",
       "      <td>Eastern</td>\n",
       "      <td>No</td>\n",
       "      <td>Yes</td>\n",
       "      <td>Yes</td>\n",
       "      <td>Yes</td>\n",
       "      <td>...</td>\n",
       "      <td>Dont Know</td>\n",
       "      <td>Yes</td>\n",
       "      <td>No</td>\n",
       "      <td>Yes</td>\n",
       "      <td>Dont Know</td>\n",
       "      <td>Dont Know</td>\n",
       "      <td>Dont Know</td>\n",
       "      <td>Dont Know</td>\n",
       "      <td>Yes</td>\n",
       "      <td>Yes</td>\n",
       "    </tr>\n",
       "  </tbody>\n",
       "</table>\n",
       "<p>5 rows × 37 columns</p>\n",
       "</div>"
      ],
      "text/plain": [
       "   Gender Social Status      Age Education level Working in health  \\\n",
       "0    male        Single  20 - 25         college            Health   \n",
       "1  Female        Single  20 - 25         college              nonH   \n",
       "2    male       Married  26 - 40         college              nonH   \n",
       "3  Female       Married  40 - 60         college              nonH   \n",
       "4  Female       Married  40 - 60         college            Health   \n",
       "\n",
       "  Where are you living  child had convulsions Temperature cause convulsions  \\\n",
       "0               Eastern                    No                           Yes   \n",
       "1               Eastern                    No                           Yes   \n",
       "2               Eastern                    No                           Yes   \n",
       "3               Eastern                    No                           Yes   \n",
       "4               Eastern                    No                           Yes   \n",
       "\n",
       "  Spasm is a type of epilepsy Is it dangerous up to 5 years   ...  \\\n",
       "0                          No                            Yes  ...   \n",
       "1                   Dont Know                            Yes  ...   \n",
       "2                          No                            Yes  ...   \n",
       "3                          No                            Yes  ...   \n",
       "4                         Yes                            Yes  ...   \n",
       "\n",
       "  Child with cramps should be placed on his left or right side  \\\n",
       "0                                          Dont Know             \n",
       "1                                          Dont Know             \n",
       "2                                          Dont Know             \n",
       "3                                          Dont Know             \n",
       "4                                          Dont Know             \n",
       "\n",
       "   necessary to observe the apparent child characteristics  \\\n",
       "0                                                Yes         \n",
       "1                                                Yes         \n",
       "2                                                Yes         \n",
       "3                                                Yes         \n",
       "4                                                Yes         \n",
       "\n",
       "  Child should be taken to the doctor immediately   \\\n",
       "0                                               No   \n",
       "1                                        Dont Know   \n",
       "2                                               No   \n",
       "3                                               No   \n",
       "4                                               No   \n",
       "\n",
       "  Put anything inside child mouth prevent child from biting his teeth with force  \\\n",
       "0                                                 No                               \n",
       "1                                          Dont Know                               \n",
       "2                                          Dont Know                               \n",
       "3                                                Yes                               \n",
       "4                                                Yes                               \n",
       "\n",
       "  Child must be resuscitated by introducing air through mouth  \\\n",
       "0                                                 No            \n",
       "1                                          Dont Know            \n",
       "2                                                 No            \n",
       "3                                                Yes            \n",
       "4                                          Dont Know            \n",
       "\n",
       "  Secretions should be withdrawn Heart must be refreshed  \\\n",
       "0                            Yes                      No   \n",
       "1                      Dont Know               Dont Know   \n",
       "2                             No                      No   \n",
       "3                            Yes               Dont Know   \n",
       "4                      Dont Know               Dont Know   \n",
       "\n",
       "  Dealing with a child when has a cramp having thermometer at home  \\\n",
       "0                                   Yes                        Yes   \n",
       "1                             Dont Know                         No   \n",
       "2                             Dont Know                        Yes   \n",
       "3                                    No                        Yes   \n",
       "4                             Dont Know                        Yes   \n",
       "\n",
       "  Know how to use thermometer  \n",
       "0                         Yes  \n",
       "1                         Yes  \n",
       "2                         Yes  \n",
       "3                         Yes  \n",
       "4                         Yes  \n",
       "\n",
       "[5 rows x 37 columns]"
      ]
     },
     "execution_count": 1,
     "metadata": {},
     "output_type": "execute_result"
    }
   ],
   "source": [
    "import numpy as np\n",
    "import pandas as pd\n",
    "import matplotlib.pyplot as plt\n",
    "from sklearn.linear_model import LinearRegression\n",
    "from sklearn.model_selection import train_test_split\n",
    "from sklearn.metrics import r2_score, mean_squared_error\n",
    "import seaborn as sns\n",
    "from collections import defaultdict\n",
    "%matplotlib inline\n",
    "\n",
    "df = pd.read_csv('./febrile_seizures.csv')\n",
    "df.head()"
   ]
  },
  {
   "cell_type": "code",
   "execution_count": 2,
   "metadata": {},
   "outputs": [
    {
     "data": {
      "text/plain": [
       "(750, 37)"
      ]
     },
     "execution_count": 2,
     "metadata": {},
     "output_type": "execute_result"
    }
   ],
   "source": [
    "# We are intersted in persons working in Health\n",
    "\n",
    "# The number of Participants working in health, 77 working in health , 750 not working in health\n",
    "\n",
    "health_df = df[df['Working in health'] == 'Health']\n",
    "not_health_df = df[df['Working in health'] == 'nonH']\n",
    "not_health_df.shape"
   ]
  },
  {
   "cell_type": "code",
   "execution_count": 3,
   "metadata": {},
   "outputs": [
    {
     "data": {
      "text/plain": [
       "Yes    0.857143\n",
       "No     0.142857\n",
       "Name: having thermometer at home, dtype: float64"
      ]
     },
     "execution_count": 3,
     "metadata": {},
     "output_type": "execute_result"
    }
   ],
   "source": [
    "# The percentage of answers for 'having thermometer at home question (Working in health participants) \n",
    "\n",
    "\n",
    "health_df['having thermometer at home'].value_counts()/(health_df.shape[0] - sum(health_df['having thermometer at home'].isnull()))"
   ]
  },
  {
   "cell_type": "code",
   "execution_count": 4,
   "metadata": {},
   "outputs": [
    {
     "data": {
      "image/png": "[encoded data removed]",
      "text/plain": [
       "<Figure size 432x288 with 1 Axes>"
      ]
     },
     "metadata": {},
     "output_type": "display_data"
    }
   ],
   "source": [
    "# Pie Chart having thermometer at home question (working in health Participants) \n",
    "\n",
    "\n",
    "yes = health_df.loc[health_df['having thermometer at home'] == 'Yes'].count()[0]\n",
    "no = health_df.loc[health_df['having thermometer at home'] == 'No'].count()[0]\n",
    "labels = ['Yes', 'No']\n",
    "colors = ['#FFA07A','#CD5C5C']\n",
    "\n",
    "plt.pie([yes , no] , labels=labels , colors=colors , autopct = '%.2f')\n",
    "\n",
    "plt.title(\"Working In Health Have Thermometer\")\n",
    "plt.show()\n"
   ]
  },
  {
   "cell_type": "code",
   "execution_count": 5,
   "metadata": {},
   "outputs": [
    {
     "data": {
      "text/plain": [
       "Yes    0.834667\n",
       "No     0.165333\n",
       "Name: having thermometer at home, dtype: float64"
      ]
     },
     "execution_count": 5,
     "metadata": {},
     "output_type": "execute_result"
    }
   ],
   "source": [
    "# The percentage of answers for 'having thermometer at home question (Regular  participants) \n",
    "\n",
    "not_health_df['having thermometer at home'].value_counts()/(not_health_df.shape[0] - sum(not_health_df['having thermometer at home'].isnull()))"
   ]
  },
  {
   "cell_type": "code",
   "execution_count": 6,
   "metadata": {},
   "outputs": [
    {
     "data": {
      "image/png": "[encoded data removed]",
      "text/plain": [
       "<Figure size 432x288 with 1 Axes>"
      ]
     },
     "metadata": {},
     "output_type": "display_data"
    }
   ],
   "source": [
    "# Pie Chart having thermometer at home question (Regular Participants) \n",
    "\n",
    "yes = not_health_df.loc[not_health_df['having thermometer at home'] == 'Yes'].count()[0]\n",
    "no = not_health_df.loc[not_health_df['having thermometer at home'] == 'No'].count()[0]\n",
    "labels = ['Yes', 'No']\n",
    "colors = ['#FFA07A','#CD5C5C']\n",
    "\n",
    "plt.pie([yes , no] , labels=labels , colors=colors , autopct = '%.2f')\n",
    "\n",
    "plt.title(\"Regular People Have Thermometer\")\n",
    "plt.show()"
   ]
  }
 ],
 "metadata": {
  "kernelspec": {
   "display_name": "Python 3",
   "language": "python",
   "name": "python3"
  },
  "language_info": {
   "codemirror_mode": {
    "name": "ipython",
    "version": 3
   },
   "file_extension": ".py",
   "mimetype": "text/x-python",
   "name": "python",
   "nbconvert_exporter": "python",
   "pygments_lexer": "ipython3",
   "version": "3.8.2"
  }
 },
 "nbformat": 4,
 "nbformat_minor": 4
}
