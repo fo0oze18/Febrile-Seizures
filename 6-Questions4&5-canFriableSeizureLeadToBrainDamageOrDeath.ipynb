{
 "cells": [
  {
   "cell_type": "code",
   "execution_count": 4,
   "metadata": {},
   "outputs": [
    {
     "data": {
      "text/html": [
       "<div>\n",
       "<style scoped>\n",
       "    .dataframe tbody tr th:only-of-type {\n",
       "        vertical-align: middle;\n",
       "    }\n",
       "\n",
       "    .dataframe tbody tr th {\n",
       "        vertical-align: top;\n",
       "    }\n",
       "\n",
       "    .dataframe thead th {\n",
       "        text-align: right;\n",
       "    }\n",
       "</style>\n",
       "<table border=\"1\" class=\"dataframe\">\n",
       "  <thead>\n",
       "    <tr style=\"text-align: right;\">\n",
       "      <th></th>\n",
       "      <th>Gender</th>\n",
       "      <th>Social Status</th>\n",
       "      <th>Age</th>\n",
       "      <th>Education level</th>\n",
       "      <th>Working in health</th>\n",
       "      <th>Where are you living</th>\n",
       "      <th>child had convulsions</th>\n",
       "      <th>Temperature cause convulsions</th>\n",
       "      <th>Spasm is a type of epilepsy</th>\n",
       "      <th>Is it dangerous up to 5 years</th>\n",
       "      <th>...</th>\n",
       "      <th>Child with cramps should be placed on his left or right side</th>\n",
       "      <th>necessary to observe the apparent child characteristics</th>\n",
       "      <th>Child should be taken to the doctor immediately</th>\n",
       "      <th>Put anything inside child mouth prevent child from biting his teeth with force</th>\n",
       "      <th>Child must be resuscitated by introducing air through mouth</th>\n",
       "      <th>Secretions should be withdrawn</th>\n",
       "      <th>Heart must be refreshed</th>\n",
       "      <th>Dealing with a child when has a cramp</th>\n",
       "      <th>having thermometer at home</th>\n",
       "      <th>Know how to use thermometer</th>\n",
       "    </tr>\n",
       "  </thead>\n",
       "  <tbody>\n",
       "    <tr>\n",
       "      <th>0</th>\n",
       "      <td>male</td>\n",
       "      <td>Single</td>\n",
       "      <td>20 - 25</td>\n",
       "      <td>college</td>\n",
       "      <td>Health</td>\n",
       "      <td>Eastern</td>\n",
       "      <td>No</td>\n",
       "      <td>Yes</td>\n",
       "      <td>No</td>\n",
       "      <td>Yes</td>\n",
       "      <td>...</td>\n",
       "      <td>Dont Know</td>\n",
       "      <td>Yes</td>\n",
       "      <td>No</td>\n",
       "      <td>No</td>\n",
       "      <td>No</td>\n",
       "      <td>Yes</td>\n",
       "      <td>No</td>\n",
       "      <td>Yes</td>\n",
       "      <td>Yes</td>\n",
       "      <td>Yes</td>\n",
       "    </tr>\n",
       "    <tr>\n",
       "      <th>1</th>\n",
       "      <td>Female</td>\n",
       "      <td>Single</td>\n",
       "      <td>20 - 25</td>\n",
       "      <td>college</td>\n",
       "      <td>nonH</td>\n",
       "      <td>Eastern</td>\n",
       "      <td>No</td>\n",
       "      <td>Yes</td>\n",
       "      <td>Dont Know</td>\n",
       "      <td>Yes</td>\n",
       "      <td>...</td>\n",
       "      <td>Dont Know</td>\n",
       "      <td>Yes</td>\n",
       "      <td>Dont Know</td>\n",
       "      <td>Dont Know</td>\n",
       "      <td>Dont Know</td>\n",
       "      <td>Dont Know</td>\n",
       "      <td>Dont Know</td>\n",
       "      <td>Dont Know</td>\n",
       "      <td>No</td>\n",
       "      <td>Yes</td>\n",
       "    </tr>\n",
       "    <tr>\n",
       "      <th>2</th>\n",
       "      <td>male</td>\n",
       "      <td>Married</td>\n",
       "      <td>26 - 40</td>\n",
       "      <td>college</td>\n",
       "      <td>nonH</td>\n",
       "      <td>Eastern</td>\n",
       "      <td>No</td>\n",
       "      <td>Yes</td>\n",
       "      <td>No</td>\n",
       "      <td>Yes</td>\n",
       "      <td>...</td>\n",
       "      <td>Dont Know</td>\n",
       "      <td>Yes</td>\n",
       "      <td>No</td>\n",
       "      <td>Dont Know</td>\n",
       "      <td>No</td>\n",
       "      <td>No</td>\n",
       "      <td>No</td>\n",
       "      <td>Dont Know</td>\n",
       "      <td>Yes</td>\n",
       "      <td>Yes</td>\n",
       "    </tr>\n",
       "    <tr>\n",
       "      <th>3</th>\n",
       "      <td>Female</td>\n",
       "      <td>Married</td>\n",
       "      <td>40 - 60</td>\n",
       "      <td>college</td>\n",
       "      <td>nonH</td>\n",
       "      <td>Eastern</td>\n",
       "      <td>No</td>\n",
       "      <td>Yes</td>\n",
       "      <td>No</td>\n",
       "      <td>Yes</td>\n",
       "      <td>...</td>\n",
       "      <td>Dont Know</td>\n",
       "      <td>Yes</td>\n",
       "      <td>No</td>\n",
       "      <td>Yes</td>\n",
       "      <td>Yes</td>\n",
       "      <td>Yes</td>\n",
       "      <td>Dont Know</td>\n",
       "      <td>No</td>\n",
       "      <td>Yes</td>\n",
       "      <td>Yes</td>\n",
       "    </tr>\n",
       "    <tr>\n",
       "      <th>4</th>\n",
       "      <td>Female</td>\n",
       "      <td>Married</td>\n",
       "      <td>40 - 60</td>\n",
       "      <td>college</td>\n",
       "      <td>Health</td>\n",
       "      <td>Eastern</td>\n",
       "      <td>No</td>\n",
       "      <td>Yes</td>\n",
       "      <td>Yes</td>\n",
       "      <td>Yes</td>\n",
       "      <td>...</td>\n",
       "      <td>Dont Know</td>\n",
       "      <td>Yes</td>\n",
       "      <td>No</td>\n",
       "      <td>Yes</td>\n",
       "      <td>Dont Know</td>\n",
       "      <td>Dont Know</td>\n",
       "      <td>Dont Know</td>\n",
       "      <td>Dont Know</td>\n",
       "      <td>Yes</td>\n",
       "      <td>Yes</td>\n",
       "    </tr>\n",
       "  </tbody>\n",
       "</table>\n",
       "<p>5 rows × 37 columns</p>\n",
       "</div>"
      ],
      "text/plain": [
       "   Gender Social Status      Age Education level Working in health  \\\n",
       "0    male        Single  20 - 25         college            Health   \n",
       "1  Female        Single  20 - 25         college              nonH   \n",
       "2    male       Married  26 - 40         college              nonH   \n",
       "3  Female       Married  40 - 60         college              nonH   \n",
       "4  Female       Married  40 - 60         college            Health   \n",
       "\n",
       "  Where are you living child had convulsions Temperature cause convulsions  \\\n",
       "0              Eastern                    No                           Yes   \n",
       "1              Eastern                    No                           Yes   \n",
       "2              Eastern                    No                           Yes   \n",
       "3              Eastern                    No                           Yes   \n",
       "4              Eastern                    No                           Yes   \n",
       "\n",
       "  Spasm is a type of epilepsy Is it dangerous up to 5 years   ...  \\\n",
       "0                          No                            Yes  ...   \n",
       "1                   Dont Know                            Yes  ...   \n",
       "2                          No                            Yes  ...   \n",
       "3                          No                            Yes  ...   \n",
       "4                         Yes                            Yes  ...   \n",
       "\n",
       "  Child with cramps should be placed on his left or right side  \\\n",
       "0                                          Dont Know             \n",
       "1                                          Dont Know             \n",
       "2                                          Dont Know             \n",
       "3                                          Dont Know             \n",
       "4                                          Dont Know             \n",
       "\n",
       "   necessary to observe the apparent child characteristics  \\\n",
       "0                                                Yes         \n",
       "1                                                Yes         \n",
       "2                                                Yes         \n",
       "3                                                Yes         \n",
       "4                                                Yes         \n",
       "\n",
       "  Child should be taken to the doctor immediately   \\\n",
       "0                                               No   \n",
       "1                                        Dont Know   \n",
       "2                                               No   \n",
       "3                                               No   \n",
       "4                                               No   \n",
       "\n",
       "  Put anything inside child mouth prevent child from biting his teeth with force  \\\n",
       "0                                                 No                               \n",
       "1                                          Dont Know                               \n",
       "2                                          Dont Know                               \n",
       "3                                                Yes                               \n",
       "4                                                Yes                               \n",
       "\n",
       "  Child must be resuscitated by introducing air through mouth  \\\n",
       "0                                                 No            \n",
       "1                                          Dont Know            \n",
       "2                                                 No            \n",
       "3                                                Yes            \n",
       "4                                          Dont Know            \n",
       "\n",
       "  Secretions should be withdrawn Heart must be refreshed  \\\n",
       "0                            Yes                      No   \n",
       "1                      Dont Know               Dont Know   \n",
       "2                             No                      No   \n",
       "3                            Yes               Dont Know   \n",
       "4                      Dont Know               Dont Know   \n",
       "\n",
       "  Dealing with a child when has a cramp having thermometer at home  \\\n",
       "0                                   Yes                        Yes   \n",
       "1                             Dont Know                         No   \n",
       "2                             Dont Know                        Yes   \n",
       "3                                    No                        Yes   \n",
       "4                             Dont Know                        Yes   \n",
       "\n",
       "  Know how to use thermometer  \n",
       "0                         Yes  \n",
       "1                         Yes  \n",
       "2                         Yes  \n",
       "3                         Yes  \n",
       "4                         Yes  \n",
       "\n",
       "[5 rows x 37 columns]"
      ]
     },
     "execution_count": 4,
     "metadata": {},
     "output_type": "execute_result"
    }
   ],
   "source": [
    "import numpy as np\n",
    "import pandas as pd\n",
    "import matplotlib.pyplot as plt\n",
    "from sklearn.linear_model import LinearRegression\n",
    "from sklearn.model_selection import train_test_split\n",
    "from sklearn.metrics import r2_score, mean_squared_error\n",
    "import seaborn as sns\n",
    "from collections import defaultdict\n",
    "%matplotlib inline\n",
    "\n",
    "df = pd.read_csv('./febrile_seizures.csv')\n",
    "df.head()"
   ]
  },
  {
   "cell_type": "code",
   "execution_count": 2,
   "metadata": {},
   "outputs": [
    {
     "data": {
      "text/plain": [
       "(750, 37)"
      ]
     },
     "execution_count": 2,
     "metadata": {},
     "output_type": "execute_result"
    }
   ],
   "source": [
    "# We are intersted in persons working in Health\n",
    "\n",
    "# The number of Participants working in health, 77 working in health , 750 not working in health\n",
    "health_df = df[df['Working in health'] == 'Health']\n",
    "not_health_df = df[df['Working in health'] == 'nonH']\n",
    "not_health_df.shape"
   ]
  },
  {
   "cell_type": "code",
   "execution_count": 3,
   "metadata": {},
   "outputs": [
    {
     "data": {
      "text/plain": [
       "Yes          0.701299\n",
       "Dont Know    0.220779\n",
       "No           0.077922\n",
       "Name: is it lead to brain damage, dtype: float64"
      ]
     },
     "execution_count": 3,
     "metadata": {},
     "output_type": "execute_result"
    }
   ],
   "source": [
    "# The answers of brain damge question (working in health Participants) \n",
    "\n",
    "health_df['is it lead to brain damage'].value_counts()/(health_df.shape[0] - sum(health_df['is it lead to brain damage'].isnull()))"
   ]
  },
  {
   "cell_type": "code",
   "execution_count": 4,
   "metadata": {},
   "outputs": [
    {
     "data": {
      "image/png": "[encoded data removed]",
      "text/plain": [
       "<Figure size 432x288 with 1 Axes>"
      ]
     },
     "metadata": {},
     "output_type": "display_data"
    }
   ],
   "source": [
    "# Pie chart of brain damge question (Working in Health Participants)   \n",
    "\n",
    "yes = health_df.loc[health_df['is it lead to brain damage'] == 'Yes'].count()[0]\n",
    "no = health_df.loc[health_df['is it lead to brain damage'] == 'No'].count()[0]\n",
    "dont = health_df.loc[health_df['is it lead to brain damage'] == 'Dont Know'].count()[0]\n",
    "labels = ['Yes', 'No', 'Dont Know']\n",
    "colors = ['#CD5C5C','#FA8072','#FFA07A',]\n",
    "\n",
    "plt.pie([yes , no , dont] , labels=labels , colors=colors , autopct = '%.2f')\n",
    "\n",
    "plt.title(\"Lead To Brain Damge (Working in Health)\")\n",
    "plt.show()"
   ]
  },
  {
   "cell_type": "code",
   "execution_count": 5,
   "metadata": {},
   "outputs": [
    {
     "data": {
      "text/plain": [
       "Yes          0.717333\n",
       "Dont Know    0.253333\n",
       "No           0.029333\n",
       "Name: is it lead to brain damage, dtype: float64"
      ]
     },
     "execution_count": 5,
     "metadata": {},
     "output_type": "execute_result"
    }
   ],
   "source": [
    "# The percentage of answers for brain damge question (Regular Participants) \n",
    "\n",
    "\n",
    "\n",
    "not_health_df['is it lead to brain damage'].value_counts()/(not_health_df.shape[0] - sum(not_health_df['is it lead to brain damage'].isnull()))"
   ]
  },
  {
   "cell_type": "code",
   "execution_count": 6,
   "metadata": {},
   "outputs": [
    {
     "data": {
      "image/png": "[encoded data removed]",
      "text/plain": [
       "<Figure size 432x288 with 1 Axes>"
      ]
     },
     "metadata": {},
     "output_type": "display_data"
    }
   ],
   "source": [
    "# Pie Chart brain damge question (Regular Participants) \n",
    "\n",
    "yes = not_health_df.loc[not_health_df['is it lead to brain damage'] == 'Yes'].count()[0]\n",
    "no = not_health_df.loc[not_health_df['is it lead to brain damage'] == 'No'].count()[0]\n",
    "dont = not_health_df.loc[not_health_df['is it lead to brain damage'] == 'Dont Know'].count()[0]\n",
    "labels = ['Yes', 'No', 'Dont Know']\n",
    "colors = ['#CD5C5C','#FA8072','#FFA07A',]\n",
    "\n",
    "plt.pie([yes , no , dont] , labels=labels , colors=colors , autopct = '%.2f')\n",
    "\n",
    "plt.title(\"Lead To Brain Damge (Regular People)\")\n",
    "plt.show()"
   ]
  },
  {
   "cell_type": "code",
   "execution_count": 7,
   "metadata": {},
   "outputs": [
    {
     "data": {
      "text/plain": [
       "(552, 37)"
      ]
     },
     "execution_count": 7,
     "metadata": {},
     "output_type": "execute_result"
    }
   ],
   "source": [
    "# We are intersted here in Education level\n",
    "\n",
    "# College Level = 552\n",
    "# High level = 152\n",
    "# Phd Level = 104\n",
    "# less = 19\n",
    "\n",
    "college_df = df[df['Education level'] == 'college']\n",
    "high_df = df[df['Education level'] == 'high']\n",
    "phd_df = df[df['Education level'] == 'phd']\n",
    "less_df = df[df['Education level'] == 'Less']\n",
    "college_df.shape"
   ]
  },
  {
   "cell_type": "code",
   "execution_count": 8,
   "metadata": {},
   "outputs": [
    {
     "data": {
      "text/plain": [
       "Dont Know    283\n",
       "Yes          233\n",
       "No            36\n",
       "Name: is it lead to death, dtype: int64"
      ]
     },
     "execution_count": 8,
     "metadata": {},
     "output_type": "execute_result"
    }
   ],
   "source": [
    "# The number of answers for is it lead to death question (Depend on College level of participants) \n",
    "\n",
    "college_df['is it lead to death'].value_counts()"
   ]
  },
  {
   "cell_type": "code",
   "execution_count": 9,
   "metadata": {},
   "outputs": [
    {
     "data": {
      "text/plain": [
       "Dont Know    0.512681\n",
       "Yes          0.422101\n",
       "No           0.065217\n",
       "Name: is it lead to death, dtype: float64"
      ]
     },
     "execution_count": 9,
     "metadata": {},
     "output_type": "execute_result"
    }
   ],
   "source": [
    "# The percentage of answers for is it lead to death question (Depend on College level of participants) \n",
    "\n",
    "college_df['is it lead to death'].value_counts()/(college_df.shape[0] - sum(college_df['is it lead to death'].isnull()))"
   ]
  },
  {
   "cell_type": "code",
   "execution_count": 10,
   "metadata": {},
   "outputs": [
    {
     "data": {
      "text/plain": [
       "Dont Know    86\n",
       "Yes          49\n",
       "No           17\n",
       "Name: is it lead to death, dtype: int64"
      ]
     },
     "execution_count": 10,
     "metadata": {},
     "output_type": "execute_result"
    }
   ],
   "source": [
    "# The number of answers for is it lead to death question (Depend on High level of participants) \n",
    "\n",
    "high_df['is it lead to death'].value_counts()"
   ]
  },
  {
   "cell_type": "code",
   "execution_count": 11,
   "metadata": {},
   "outputs": [
    {
     "data": {
      "text/plain": [
       "Dont Know    0.565789\n",
       "Yes          0.322368\n",
       "No           0.111842\n",
       "Name: is it lead to death, dtype: float64"
      ]
     },
     "execution_count": 11,
     "metadata": {},
     "output_type": "execute_result"
    }
   ],
   "source": [
    "# The percentage of answers for is it lead to death question (Depend on High level of participants) \n",
    "\n",
    "high_df['is it lead to death'].value_counts()/(high_df.shape[0] - sum(high_df['is it lead to death'].isnull()))"
   ]
  },
  {
   "cell_type": "code",
   "execution_count": 12,
   "metadata": {},
   "outputs": [
    {
     "data": {
      "text/plain": [
       "Dont Know    49\n",
       "Yes          46\n",
       "No            9\n",
       "Name: is it lead to death, dtype: int64"
      ]
     },
     "execution_count": 12,
     "metadata": {},
     "output_type": "execute_result"
    }
   ],
   "source": [
    "# The number of answers for is it lead to death question (Depend on Phd level of participants) \n",
    "\n",
    "phd_df['is it lead to death'].value_counts()"
   ]
  },
  {
   "cell_type": "code",
   "execution_count": 13,
   "metadata": {},
   "outputs": [
    {
     "data": {
      "text/plain": [
       "Dont Know    0.471154\n",
       "Yes          0.442308\n",
       "No           0.086538\n",
       "Name: is it lead to death, dtype: float64"
      ]
     },
     "execution_count": 13,
     "metadata": {},
     "output_type": "execute_result"
    }
   ],
   "source": [
    "# The percentage of answers for is it lead to death question (Depend on Phd level of participants) \n",
    "\n",
    "phd_df['is it lead to death'].value_counts()/(phd_df.shape[0] - sum(phd_df['is it lead to death'].isnull()))"
   ]
  },
  {
   "cell_type": "code",
   "execution_count": 14,
   "metadata": {},
   "outputs": [
    {
     "data": {
      "text/plain": [
       "Dont Know    11\n",
       "Yes           6\n",
       "No            2\n",
       "Name: is it lead to death, dtype: int64"
      ]
     },
     "execution_count": 14,
     "metadata": {},
     "output_type": "execute_result"
    }
   ],
   "source": [
    "# The number of answers for is it lead to death question (Depend on less level of participants) \n",
    "\n",
    "less_df['is it lead to death'].value_counts()"
   ]
  },
  {
   "cell_type": "code",
   "execution_count": 15,
   "metadata": {},
   "outputs": [
    {
     "data": {
      "text/plain": [
       "Dont Know    0.578947\n",
       "Yes          0.315789\n",
       "No           0.105263\n",
       "Name: is it lead to death, dtype: float64"
      ]
     },
     "execution_count": 15,
     "metadata": {},
     "output_type": "execute_result"
    }
   ],
   "source": [
    "# The percentage of answers for is it lead to death question (Depend on less level of participants) \n",
    "\n",
    "less_df['is it lead to death'].value_counts()/(less_df.shape[0] - sum(less_df['is it lead to death'].isnull()))"
   ]
  }
 ],
 "metadata": {
  "kernelspec": {
   "display_name": "Python 3",
   "language": "python",
   "name": "python3"
  },
  "language_info": {
   "codemirror_mode": {
    "name": "ipython",
    "version": 3
   },
   "file_extension": ".py",
   "mimetype": "text/x-python",
   "name": "python",
   "nbconvert_exporter": "python",
   "pygments_lexer": "ipython3",
   "version": "3.8.2"
  }
 },
 "nbformat": 4,
 "nbformat_minor": 4
}
